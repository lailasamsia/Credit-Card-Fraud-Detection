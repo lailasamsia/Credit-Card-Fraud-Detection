{
 "cells": [
  {
   "cell_type": "code",
   "execution_count": 1,
   "metadata": {
    "_cell_guid": "dfb33b95-8b5d-402a-8b53-8e02b50a58dc",
    "_uuid": "aa7e72de-5391-4fc7-8ada-9fe853a479e1",
    "execution": {
     "iopub.execute_input": "2021-03-12T07:10:25.859697Z",
     "iopub.status.busy": "2021-03-12T07:10:25.858669Z",
     "iopub.status.idle": "2021-03-12T07:10:26.823868Z",
     "shell.execute_reply": "2021-03-12T07:10:26.822496Z"
    },
    "papermill": {
     "duration": 0.995341,
     "end_time": "2021-03-12T07:10:26.824108",
     "exception": false,
     "start_time": "2021-03-12T07:10:25.828767",
     "status": "completed"
    },
    "tags": []
   },
   "outputs": [],
   "source": [
    "#Import library\n",
    "import numpy as np \n",
    "import pandas as pd \n",
    "import matplotlib.pyplot as plt\n",
    "import seaborn as sns"
   ]
  },
  {
   "cell_type": "code",
   "execution_count": 2,
   "metadata": {
    "_cell_guid": "e8fc1696-3ac3-4ede-97e4-3ff31108bc89",
    "_uuid": "ddde6286-a749-46ad-983a-751883e0a513",
    "execution": {
     "iopub.execute_input": "2021-03-12T07:10:26.871733Z",
     "iopub.status.busy": "2021-03-12T07:10:26.870829Z",
     "iopub.status.idle": "2021-03-12T07:10:32.184592Z",
     "shell.execute_reply": "2021-03-12T07:10:32.183997Z"
    },
    "papermill": {
     "duration": 5.338674,
     "end_time": "2021-03-12T07:10:32.184814",
     "exception": false,
     "start_time": "2021-03-12T07:10:26.846140",
     "status": "completed"
    },
    "tags": []
   },
   "outputs": [
    {
     "data": {
      "text/plain": [
       "(284807, 31)"
      ]
     },
     "execution_count": 2,
     "metadata": {},
     "output_type": "execute_result"
    }
   ],
   "source": [
    "#Read Dataset\n",
    "data = pd.read_csv('../input/credit-card-fraud-detection/creditcard.csv')\n",
    "data.shape"
   ]
  },
  {
   "cell_type": "markdown",
   "metadata": {
    "_cell_guid": "a4303257-d8ca-44a4-9e03-211aafebc377",
    "_uuid": "8cc1efbe-c980-4357-9326-d5dabec37366",
    "papermill": {
     "duration": 0.019548,
     "end_time": "2021-03-12T07:10:32.224900",
     "exception": false,
     "start_time": "2021-03-12T07:10:32.205352",
     "status": "completed"
    },
    "tags": []
   },
   "source": [
    "# From the table above shown data set credit card.\n",
    "1. Column time is showing transactions time\n",
    "2. Column V1-V28 (as V) is data that can be in the form of user age data, transactions, money etc.\n",
    "   Column V data has been standardized centered on an average of 0\n",
    "3. Column Amount is amount of transactions in dollars\n",
    "4. Column Class is transaction fraud prediction data(0 = honest, 1 = fraud)"
   ]
  },
  {
   "cell_type": "markdown",
   "metadata": {
    "_cell_guid": "beee84b2-bce8-4666-9871-c3a4a73cf9db",
    "_uuid": "73b6d5aa-d136-4030-be9f-94ca633fc4f0",
    "papermill": {
     "duration": 0.019463,
     "end_time": "2021-03-12T07:10:32.264245",
     "exception": false,
     "start_time": "2021-03-12T07:10:32.244782",
     "status": "completed"
    },
    "tags": []
   },
   "source": [
    "The amount data in the table is still in dollars, not the same scale as the data in other columns. therefore, it is necessary to standardize the data"
   ]
  },
  {
   "cell_type": "code",
   "execution_count": 3,
   "metadata": {
    "_cell_guid": "71a1a1c9-4823-4480-99b4-8749efafd70f",
    "_uuid": "d019b3c4-5285-4ae7-8549-ea4b88eefc95",
    "execution": {
     "iopub.execute_input": "2021-03-12T07:10:32.309904Z",
     "iopub.status.busy": "2021-03-12T07:10:32.308979Z",
     "iopub.status.idle": "2021-03-12T07:10:32.531779Z",
     "shell.execute_reply": "2021-03-12T07:10:32.530909Z"
    },
    "papermill": {
     "duration": 0.24796,
     "end_time": "2021-03-12T07:10:32.531977",
     "exception": false,
     "start_time": "2021-03-12T07:10:32.284017",
     "status": "completed"
    },
    "tags": []
   },
   "outputs": [],
   "source": [
    "#Standardize Column Amount\n",
    "from sklearn.preprocessing import StandardScaler\n",
    "data['standar'] = StandardScaler().fit_transform(data['Amount'].values.reshape(-1,1))"
   ]
  },
  {
   "cell_type": "code",
   "execution_count": 4,
   "metadata": {
    "_cell_guid": "ce1d64bd-5567-42fa-bc5e-b55ea5d03ba1",
    "_uuid": "7a6591e6-0377-4137-b50c-842c2ced103d",
    "execution": {
     "iopub.execute_input": "2021-03-12T07:10:32.585216Z",
     "iopub.status.busy": "2021-03-12T07:10:32.584037Z",
     "iopub.status.idle": "2021-03-12T07:10:32.706917Z",
     "shell.execute_reply": "2021-03-12T07:10:32.706178Z"
    },
    "papermill": {
     "duration": 0.152961,
     "end_time": "2021-03-12T07:10:32.707124",
     "exception": false,
     "start_time": "2021-03-12T07:10:32.554163",
     "status": "completed"
    },
    "tags": []
   },
   "outputs": [],
   "source": [
    "#Define dependent variable (y) and independent variable (X)\n",
    "y = np.array(data.iloc[:,-2])\n",
    "#Drop unnecessary data (data is not standardized)\n",
    "X = np.array(data.drop(['Time', 'Amount', 'Class'], axis=1))"
   ]
  },
  {
   "cell_type": "code",
   "execution_count": 5,
   "metadata": {
    "execution": {
     "iopub.execute_input": "2021-03-12T07:10:32.763805Z",
     "iopub.status.busy": "2021-03-12T07:10:32.763012Z",
     "iopub.status.idle": "2021-03-12T07:10:32.957352Z",
     "shell.execute_reply": "2021-03-12T07:10:32.956562Z"
    },
    "papermill": {
     "duration": 0.225834,
     "end_time": "2021-03-12T07:10:32.957575",
     "exception": false,
     "start_time": "2021-03-12T07:10:32.731741",
     "status": "completed"
    },
    "tags": []
   },
   "outputs": [],
   "source": [
    "#Split train and test set\n",
    "from sklearn.model_selection import train_test_split\n",
    "X_train, X_test, y_train, y_test = train_test_split(X, y, test_size = 0.2,\n",
    "                                                    random_state = 111)"
   ]
  },
  {
   "cell_type": "code",
   "execution_count": 6,
   "metadata": {
    "execution": {
     "iopub.execute_input": "2021-03-12T07:10:33.018144Z",
     "iopub.status.busy": "2021-03-12T07:10:33.012965Z",
     "iopub.status.idle": "2021-03-12T07:10:33.058034Z",
     "shell.execute_reply": "2021-03-12T07:10:33.057048Z"
    },
    "papermill": {
     "duration": 0.0756,
     "end_time": "2021-03-12T07:10:33.058253",
     "exception": false,
     "start_time": "2021-03-12T07:10:32.982653",
     "status": "completed"
    },
    "tags": []
   },
   "outputs": [],
   "source": [
    "X_train, X_validate, y_train, y_validate = train_test_split(X_train, y_train,\n",
    "                                                            test_size = 0.2,\n",
    "                                                            random_state = 111)"
   ]
  },
  {
   "cell_type": "code",
   "execution_count": 7,
   "metadata": {
    "execution": {
     "iopub.execute_input": "2021-03-12T07:10:33.112381Z",
     "iopub.status.busy": "2021-03-12T07:10:33.111640Z",
     "iopub.status.idle": "2021-03-12T07:10:39.984540Z",
     "shell.execute_reply": "2021-03-12T07:10:39.985093Z"
    },
    "papermill": {
     "duration": 6.901535,
     "end_time": "2021-03-12T07:10:39.985323",
     "exception": false,
     "start_time": "2021-03-12T07:10:33.083788",
     "status": "completed"
    },
    "tags": []
   },
   "outputs": [],
   "source": [
    "#Design ANN model\n",
    "from keras.models import Sequential\n",
    "from keras.layers import Dense, Dropout"
   ]
  },
  {
   "cell_type": "code",
   "execution_count": 8,
   "metadata": {
    "execution": {
     "iopub.execute_input": "2021-03-12T07:10:40.039163Z",
     "iopub.status.busy": "2021-03-12T07:10:40.038439Z",
     "iopub.status.idle": "2021-03-12T07:10:40.166939Z",
     "shell.execute_reply": "2021-03-12T07:10:40.168417Z"
    },
    "papermill": {
     "duration": 0.161597,
     "end_time": "2021-03-12T07:10:40.168749",
     "exception": false,
     "start_time": "2021-03-12T07:10:40.007152",
     "status": "completed"
    },
    "tags": []
   },
   "outputs": [
    {
     "name": "stdout",
     "output_type": "stream",
     "text": [
      "Model: \"sequential\"\n",
      "_________________________________________________________________\n",
      "Layer (type)                 Output Shape              Param #   \n",
      "=================================================================\n",
      "dense (Dense)                (None, 16)                480       \n",
      "_________________________________________________________________\n",
      "dense_1 (Dense)              (None, 24)                408       \n",
      "_________________________________________________________________\n",
      "dropout (Dropout)            (None, 24)                0         \n",
      "_________________________________________________________________\n",
      "dense_2 (Dense)              (None, 20)                500       \n",
      "_________________________________________________________________\n",
      "dense_3 (Dense)              (None, 24)                504       \n",
      "_________________________________________________________________\n",
      "dense_4 (Dense)              (None, 1)                 25        \n",
      "=================================================================\n",
      "Total params: 1,917\n",
      "Trainable params: 1,917\n",
      "Non-trainable params: 0\n",
      "_________________________________________________________________\n"
     ]
    }
   ],
   "source": [
    "classifier = Sequential()\n",
    "classifier.add(Dense(units = 16, input_dim = 29, activation = 'relu'))\n",
    "classifier.add(Dense(units = 24, activation = 'relu'))\n",
    "classifier.add(Dropout(0.25))\n",
    "classifier.add(Dense(units = 20, activation = 'relu'))\n",
    "classifier.add(Dense(units = 24, activation = 'relu'))\n",
    "classifier.add(Dense(units = 1, activation = 'sigmoid'))\n",
    "classifier.compile(optimizer = 'adam', loss = 'binary_crossentropy',\n",
    "                   metrics =['accuracy'])\n",
    "classifier.summary()"
   ]
  },
  {
   "cell_type": "code",
   "execution_count": 9,
   "metadata": {
    "execution": {
     "iopub.execute_input": "2021-03-12T07:10:40.220869Z",
     "iopub.status.busy": "2021-03-12T07:10:40.220147Z",
     "iopub.status.idle": "2021-03-12T07:10:40.833002Z",
     "shell.execute_reply": "2021-03-12T07:10:40.832258Z"
    },
    "papermill": {
     "duration": 0.641208,
     "end_time": "2021-03-12T07:10:40.833173",
     "exception": false,
     "start_time": "2021-03-12T07:10:40.191965",
     "status": "completed"
    },
    "tags": []
   },
   "outputs": [
    {
     "data": {
      "image/png": "[encoded data removed]",
      "text/plain": [
       "<IPython.core.display.Image object>"
      ]
     },
     "execution_count": 9,
     "metadata": {},
     "output_type": "execute_result"
    }
   ],
   "source": [
    "#ANN model visualization\n",
    "from keras.utils.vis_utils import plot_model\n",
    "plot_model(classifier, to_file = 'Model ANN.png', show_shapes = True,\n",
    "           show_layer_names = False)"
   ]
  },
  {
   "cell_type": "code",
   "execution_count": 10,
   "metadata": {
    "execution": {
     "iopub.execute_input": "2021-03-12T07:10:40.886545Z",
     "iopub.status.busy": "2021-03-12T07:10:40.885794Z",
     "iopub.status.idle": "2021-03-12T07:11:43.763462Z",
     "shell.execute_reply": "2021-03-12T07:11:43.761757Z"
    },
    "papermill": {
     "duration": 62.907617,
     "end_time": "2021-03-12T07:11:43.763772",
     "exception": false,
     "start_time": "2021-03-12T07:10:40.856155",
     "status": "completed"
    },
    "tags": []
   },
   "outputs": [
    {
     "name": "stdout",
     "output_type": "stream",
     "text": [
      "Epoch 1/5\n",
      "5697/5697 [==============================] - 13s 2ms/step - loss: 0.0429 - accuracy: 0.9847 - val_loss: 0.0029 - val_accuracy: 0.9994\n",
      "Epoch 2/5\n",
      "5697/5697 [==============================] - 12s 2ms/step - loss: 0.0042 - accuracy: 0.9994 - val_loss: 0.0028 - val_accuracy: 0.9994\n",
      "Epoch 3/5\n",
      "5697/5697 [==============================] - 13s 2ms/step - loss: 0.0040 - accuracy: 0.9993 - val_loss: 0.0036 - val_accuracy: 0.9994\n",
      "Epoch 4/5\n",
      "5697/5697 [==============================] - 12s 2ms/step - loss: 0.0035 - accuracy: 0.9994 - val_loss: 0.0026 - val_accuracy: 0.9994\n",
      "Epoch 5/5\n",
      "5697/5697 [==============================] - 12s 2ms/step - loss: 0.0031 - accuracy: 0.9995 - val_loss: 0.0026 - val_accuracy: 0.9995\n"
     ]
    }
   ],
   "source": [
    "#Training ANN model\n",
    "run_model = classifier.fit(X_train, y_train,\n",
    "                           batch_size = 32, epochs = 5, verbose = 1, validation_data = (X_validate, y_validate))"
   ]
  },
  {
   "cell_type": "code",
   "execution_count": 11,
   "metadata": {
    "execution": {
     "iopub.execute_input": "2021-03-12T07:11:44.537129Z",
     "iopub.status.busy": "2021-03-12T07:11:44.536425Z",
     "iopub.status.idle": "2021-03-12T07:11:44.539400Z",
     "shell.execute_reply": "2021-03-12T07:11:44.540066Z"
    },
    "papermill": {
     "duration": 0.378826,
     "end_time": "2021-03-12T07:11:44.540253",
     "exception": false,
     "start_time": "2021-03-12T07:11:44.161427",
     "status": "completed"
    },
    "tags": []
   },
   "outputs": [
    {
     "name": "stdout",
     "output_type": "stream",
     "text": [
      "dict_keys(['loss', 'accuracy', 'val_loss', 'val_accuracy'])\n"
     ]
    }
   ],
   "source": [
    "#View saved parameters\n",
    "print(run_model.history.keys())"
   ]
  },
  {
   "cell_type": "code",
   "execution_count": 12,
   "metadata": {
    "execution": {
     "iopub.execute_input": "2021-03-12T07:11:45.308276Z",
     "iopub.status.busy": "2021-03-12T07:11:45.294123Z",
     "iopub.status.idle": "2021-03-12T07:11:45.740504Z",
     "shell.execute_reply": "2021-03-12T07:11:45.739392Z"
    },
    "papermill": {
     "duration": 0.827483,
     "end_time": "2021-03-12T07:11:45.740671",
     "exception": false,
     "start_time": "2021-03-12T07:11:44.913188",
     "status": "completed"
    },
    "tags": []
   },
   "outputs": [
    {
     "data": {
      "image/png": "[encoded data removed]",
      "text/plain": [
       "<Figure size 432x288 with 1 Axes>"
      ]
     },
     "metadata": {
      "needs_background": "light"
     },
     "output_type": "display_data"
    }
   ],
   "source": [
    "#Plot accuracy training and validation sets\n",
    "plt.plot(run_model.history['accuracy'])\n",
    "plt.plot(run_model.history['val_accuracy'])\n",
    "plt.title('Model Accuracy')\n",
    "plt.ylabel('accuracy')\n",
    "plt.xlabel('epoch')\n",
    "plt.legend(['train', 'validate'], loc = 'upper left')\n",
    "plt.show()"
   ]
  },
  {
   "cell_type": "code",
   "execution_count": 13,
   "metadata": {
    "execution": {
     "iopub.execute_input": "2021-03-12T07:11:46.463149Z",
     "iopub.status.busy": "2021-03-12T07:11:46.462417Z",
     "iopub.status.idle": "2021-03-12T07:11:46.668739Z",
     "shell.execute_reply": "2021-03-12T07:11:46.668187Z"
    },
    "papermill": {
     "duration": 0.577423,
     "end_time": "2021-03-12T07:11:46.668907",
     "exception": false,
     "start_time": "2021-03-12T07:11:46.091484",
     "status": "completed"
    },
    "tags": []
   },
   "outputs": [
    {
     "data": {
      "image/png": "[encoded data removed]",
      "text/plain": [
       "<Figure size 432x288 with 1 Axes>"
      ]
     },
     "metadata": {
      "needs_background": "light"
     },
     "output_type": "display_data"
    }
   ],
   "source": [
    "#Plot loss training dan validation set\n",
    "plt.plot(run_model.history['loss'])\n",
    "plt.plot(run_model.history['val_loss'])\n",
    "plt.title('Model Loss')\n",
    "plt.ylabel('loss')\n",
    "plt.xlabel('epoch')\n",
    "plt.legend(['train', 'validate'], loc = 'upper left')\n",
    "plt.show()"
   ]
  },
  {
   "cell_type": "code",
   "execution_count": 14,
   "metadata": {
    "execution": {
     "iopub.execute_input": "2021-03-12T07:11:47.360432Z",
     "iopub.status.busy": "2021-03-12T07:11:47.359749Z",
     "iopub.status.idle": "2021-03-12T07:11:49.260349Z",
     "shell.execute_reply": "2021-03-12T07:11:49.259658Z"
    },
    "papermill": {
     "duration": 2.24677,
     "end_time": "2021-03-12T07:11:49.260533",
     "exception": false,
     "start_time": "2021-03-12T07:11:47.013763",
     "status": "completed"
    },
    "tags": []
   },
   "outputs": [
    {
     "name": "stdout",
     "output_type": "stream",
     "text": [
      "1781/1781 [==============================] - 2s 1ms/step - loss: 0.0022 - accuracy: 0.9994\n",
      "Akurasi:99.94\n"
     ]
    }
   ],
   "source": [
    "#Evaluate ANN model\n",
    "evaluasi = classifier.evaluate(X_test, y_test)\n",
    "print('Akurasi:{:.2f}'.format(evaluasi[1]*100))"
   ]
  },
  {
   "cell_type": "code",
   "execution_count": 15,
   "metadata": {
    "execution": {
     "iopub.execute_input": "2021-03-12T07:11:49.980377Z",
     "iopub.status.busy": "2021-03-12T07:11:49.979584Z",
     "iopub.status.idle": "2021-03-12T07:11:51.438758Z",
     "shell.execute_reply": "2021-03-12T07:11:51.437229Z"
    },
    "papermill": {
     "duration": 1.820649,
     "end_time": "2021-03-12T07:11:51.438982",
     "exception": false,
     "start_time": "2021-03-12T07:11:49.618333",
     "status": "completed"
    },
    "tags": []
   },
   "outputs": [
    {
     "name": "stderr",
     "output_type": "stream",
     "text": [
      "/opt/conda/lib/python3.7/site-packages/tensorflow/python/keras/engine/sequential.py:450: UserWarning: `model.predict_classes()` is deprecated and will be removed after 2021-01-01. Please use instead:* `np.argmax(model.predict(x), axis=-1)`,   if your model does multi-class classification   (e.g. if it uses a `softmax` last-layer activation).* `(model.predict(x) > 0.5).astype(\"int32\")`,   if your model does binary classification   (e.g. if it uses a `sigmoid` last-layer activation).\n",
      "  warnings.warn('`model.predict_classes()` is deprecated and '\n"
     ]
    }
   ],
   "source": [
    "#Predict test set\n",
    "hasil_prediksi = classifier.predict_classes(X_test)"
   ]
  },
  {
   "cell_type": "code",
   "execution_count": 16,
   "metadata": {
    "execution": {
     "iopub.execute_input": "2021-03-12T07:11:52.165452Z",
     "iopub.status.busy": "2021-03-12T07:11:52.164787Z",
     "iopub.status.idle": "2021-03-12T07:11:52.261557Z",
     "shell.execute_reply": "2021-03-12T07:11:52.263000Z"
    },
    "papermill": {
     "duration": 0.460123,
     "end_time": "2021-03-12T07:11:52.263217",
     "exception": false,
     "start_time": "2021-03-12T07:11:51.803094",
     "status": "completed"
    },
    "tags": []
   },
   "outputs": [],
   "source": [
    "#confusion matrix\n",
    "from sklearn.metrics import confusion_matrix\n",
    "cm = confusion_matrix(y_test, hasil_prediksi)\n",
    "cm_label = pd.DataFrame(cm, columns = np.unique(y_test), index = np.unique(y_test))\n",
    "cm_label.index.name = 'Aktual'\n",
    "cm_label.columns.name = 'Prediksi'\n"
   ]
  },
  {
   "cell_type": "code",
   "execution_count": 17,
   "metadata": {
    "execution": {
     "iopub.execute_input": "2021-03-12T07:11:52.999549Z",
     "iopub.status.busy": "2021-03-12T07:11:52.998861Z",
     "iopub.status.idle": "2021-03-12T07:11:53.213415Z",
     "shell.execute_reply": "2021-03-12T07:11:53.212867Z"
    },
    "papermill": {
     "duration": 0.59396,
     "end_time": "2021-03-12T07:11:53.213594",
     "exception": false,
     "start_time": "2021-03-12T07:11:52.619634",
     "status": "completed"
    },
    "tags": []
   },
   "outputs": [
    {
     "data": {
      "text/plain": [
       "<AxesSubplot:xlabel='Prediksi', ylabel='Aktual'>"
      ]
     },
     "execution_count": 17,
     "metadata": {},
     "output_type": "execute_result"
    },
    {
     "data": {
      "image/png": "[encoded data removed]",
      "text/plain": [
       "<Figure size 432x288 with 2 Axes>"
      ]
     },
     "metadata": {
      "needs_background": "light"
     },
     "output_type": "display_data"
    }
   ],
   "source": [
    "#Confusion matrix with seaborn\n",
    "sns.heatmap(cm_label, annot=True, cmap = 'Reds', fmt = 'g')"
   ]
  },
  {
   "cell_type": "code",
   "execution_count": 18,
   "metadata": {
    "execution": {
     "iopub.execute_input": "2021-03-12T07:11:54.005329Z",
     "iopub.status.busy": "2021-03-12T07:11:54.004635Z",
     "iopub.status.idle": "2021-03-12T07:11:54.075605Z",
     "shell.execute_reply": "2021-03-12T07:11:54.074883Z"
    },
    "papermill": {
     "duration": 0.490877,
     "end_time": "2021-03-12T07:11:54.075762",
     "exception": false,
     "start_time": "2021-03-12T07:11:53.584885",
     "status": "completed"
    },
    "tags": []
   },
   "outputs": [
    {
     "name": "stdout",
     "output_type": "stream",
     "text": [
      "              precision    recall  f1-score   support\n",
      "\n",
      "     Class 0       1.00      1.00      1.00     56861\n",
      "     Class 1       0.80      0.89      0.85       101\n",
      "\n",
      "    accuracy                           1.00     56962\n",
      "   macro avg       0.90      0.95      0.92     56962\n",
      "weighted avg       1.00      1.00      1.00     56962\n",
      "\n"
     ]
    }
   ],
   "source": [
    "#Classification report\n",
    "from sklearn.metrics import classification_report\n",
    "jumlah_kategori = 2\n",
    "target_names = ['Class {}'.format(i) for i in range(jumlah_kategori)]\n",
    "print(classification_report(y_test, hasil_prediksi, target_names = target_names))"
   ]
  },
  {
   "cell_type": "code",
   "execution_count": 19,
   "metadata": {
    "execution": {
     "iopub.execute_input": "2021-03-12T07:11:54.815326Z",
     "iopub.status.busy": "2021-03-12T07:11:54.814335Z",
     "iopub.status.idle": "2021-03-12T07:11:54.927788Z",
     "shell.execute_reply": "2021-03-12T07:11:54.928364Z"
    },
    "papermill": {
     "duration": 0.484287,
     "end_time": "2021-03-12T07:11:54.928570",
     "exception": false,
     "start_time": "2021-03-12T07:11:54.444283",
     "status": "completed"
    },
    "tags": []
   },
   "outputs": [],
   "source": [
    "#Undersampling method\n",
    "index_fraud = np.array(data[data.Class==1].index)\n",
    "n_fraud = len(index_fraud)\n",
    "index_normal = np.array(data[data.Class==0].index)\n",
    "index_data_normal = np.random.choice(index_normal, n_fraud, replace = False)\n",
    "index_data_baru = np.concatenate([index_fraud, index_data_normal])\n",
    "data_baru = data.iloc[index_data_baru, :]"
   ]
  },
  {
   "cell_type": "code",
   "execution_count": 20,
   "metadata": {
    "execution": {
     "iopub.execute_input": "2021-03-12T07:11:55.654856Z",
     "iopub.status.busy": "2021-03-12T07:11:55.654179Z",
     "iopub.status.idle": "2021-03-12T07:11:55.661786Z",
     "shell.execute_reply": "2021-03-12T07:11:55.662281Z"
    },
    "papermill": {
     "duration": 0.374284,
     "end_time": "2021-03-12T07:11:55.662474",
     "exception": false,
     "start_time": "2021-03-12T07:11:55.288190",
     "status": "completed"
    },
    "tags": []
   },
   "outputs": [],
   "source": [
    "#Classified dependent variable and idependent variable\n",
    "y_baru = np.array(data_baru.iloc[:,-2])\n",
    "X_baru = np.array(data_baru.drop(['Time', 'Amount', 'Class'], axis = 1))"
   ]
  },
  {
   "cell_type": "code",
   "execution_count": 21,
   "metadata": {
    "execution": {
     "iopub.execute_input": "2021-03-12T07:11:56.420271Z",
     "iopub.status.busy": "2021-03-12T07:11:56.419629Z",
     "iopub.status.idle": "2021-03-12T07:11:56.431958Z",
     "shell.execute_reply": "2021-03-12T07:11:56.431362Z"
    },
    "papermill": {
     "duration": 0.374751,
     "end_time": "2021-03-12T07:11:56.432192",
     "exception": false,
     "start_time": "2021-03-12T07:11:56.057441",
     "status": "completed"
    },
    "tags": []
   },
   "outputs": [],
   "source": [
    "#Split train and test set\n",
    "X_train2, X_test_final, y_train2, y_test_final = train_test_split(X_baru, y_baru, test_size = 0.1,\n",
    "                                                                 random_state = 111)\n",
    "X_train2, X_test2, y_train2, y_test2 = train_test_split(X_train2, y_train2, test_size = 0.1,\n",
    "                                                                 random_state = 111)\n",
    "X_train2, X_validate2, y_train2, y_validate2 = train_test_split(X_train2, y_train2, test_size = 0.2,\n",
    "                                                                 random_state = 111)\n"
   ]
  },
  {
   "cell_type": "code",
   "execution_count": 22,
   "metadata": {
    "execution": {
     "iopub.execute_input": "2021-03-12T07:11:57.233407Z",
     "iopub.status.busy": "2021-03-12T07:11:57.231519Z",
     "iopub.status.idle": "2021-03-12T07:11:57.311826Z",
     "shell.execute_reply": "2021-03-12T07:11:57.312448Z"
    },
    "papermill": {
     "duration": 0.516302,
     "end_time": "2021-03-12T07:11:57.312666",
     "exception": false,
     "start_time": "2021-03-12T07:11:56.796364",
     "status": "completed"
    },
    "tags": []
   },
   "outputs": [
    {
     "name": "stdout",
     "output_type": "stream",
     "text": [
      "Model: \"sequential_1\"\n",
      "_________________________________________________________________\n",
      "Layer (type)                 Output Shape              Param #   \n",
      "=================================================================\n",
      "dense_5 (Dense)              (None, 16)                480       \n",
      "_________________________________________________________________\n",
      "dense_6 (Dense)              (None, 24)                408       \n",
      "_________________________________________________________________\n",
      "dropout_1 (Dropout)          (None, 24)                0         \n",
      "_________________________________________________________________\n",
      "dense_7 (Dense)              (None, 20)                500       \n",
      "_________________________________________________________________\n",
      "dense_8 (Dense)              (None, 24)                504       \n",
      "_________________________________________________________________\n",
      "dense_9 (Dense)              (None, 1)                 25        \n",
      "=================================================================\n",
      "Total params: 1,917\n",
      "Trainable params: 1,917\n",
      "Non-trainable params: 0\n",
      "_________________________________________________________________\n"
     ]
    }
   ],
   "source": [
    "#Design new ANN model\n",
    "classifier2 = Sequential()\n",
    "classifier2.add(Dense(units = 16, input_dim = 29, activation = 'relu'))\n",
    "classifier2.add(Dense(units = 24, activation = 'relu'))\n",
    "classifier2.add(Dropout(0.25))\n",
    "classifier2.add(Dense(units = 20, activation = 'relu'))\n",
    "classifier2.add(Dense(units = 24, activation = 'relu'))\n",
    "classifier2.add(Dense(units = 1, activation = 'sigmoid'))\n",
    "classifier2.compile(optimizer = 'adam', loss = 'binary_crossentropy',\n",
    "                   metrics =['accuracy'])\n",
    "classifier2.summary()"
   ]
  },
  {
   "cell_type": "code",
   "execution_count": 23,
   "metadata": {
    "execution": {
     "iopub.execute_input": "2021-03-12T07:11:58.044996Z",
     "iopub.status.busy": "2021-03-12T07:11:58.044094Z",
     "iopub.status.idle": "2021-03-12T07:11:59.757159Z",
     "shell.execute_reply": "2021-03-12T07:11:59.756389Z"
    },
    "papermill": {
     "duration": 2.082291,
     "end_time": "2021-03-12T07:11:59.757339",
     "exception": false,
     "start_time": "2021-03-12T07:11:57.675048",
     "status": "completed"
    },
    "tags": []
   },
   "outputs": [
    {
     "name": "stdout",
     "output_type": "stream",
     "text": [
      "Epoch 1/5\n",
      "80/80 [==============================] - 1s 5ms/step - loss: 0.7471 - accuracy: 0.5225 - val_loss: 0.4616 - val_accuracy: 0.7500\n",
      "Epoch 2/5\n",
      "80/80 [==============================] - 0s 2ms/step - loss: 0.4138 - accuracy: 0.8028 - val_loss: 0.2908 - val_accuracy: 0.9062\n",
      "Epoch 3/5\n",
      "80/80 [==============================] - 0s 2ms/step - loss: 0.2574 - accuracy: 0.9171 - val_loss: 0.2157 - val_accuracy: 0.9000\n",
      "Epoch 4/5\n",
      "80/80 [==============================] - 0s 2ms/step - loss: 0.1624 - accuracy: 0.9411 - val_loss: 0.2102 - val_accuracy: 0.9062\n",
      "Epoch 5/5\n",
      "80/80 [==============================] - 0s 3ms/step - loss: 0.1303 - accuracy: 0.9477 - val_loss: 0.2102 - val_accuracy: 0.9000\n"
     ]
    }
   ],
   "source": [
    "#Training new ANN model\n",
    "run_model2 = classifier2.fit(X_train2, y_train2,\n",
    "                           batch_size = 8, epochs = 5, verbose = 1, validation_data = (X_validate2, y_validate2))"
   ]
  },
  {
   "cell_type": "code",
   "execution_count": 24,
   "metadata": {
    "execution": {
     "iopub.execute_input": "2021-03-12T07:12:00.539167Z",
     "iopub.status.busy": "2021-03-12T07:12:00.535399Z",
     "iopub.status.idle": "2021-03-12T07:12:00.709891Z",
     "shell.execute_reply": "2021-03-12T07:12:00.710379Z"
    },
    "papermill": {
     "duration": 0.576276,
     "end_time": "2021-03-12T07:12:00.710630",
     "exception": false,
     "start_time": "2021-03-12T07:12:00.134354",
     "status": "completed"
    },
    "tags": []
   },
   "outputs": [
    {
     "data": {
      "image/png": "[encoded data removed]",
      "text/plain": [
       "<Figure size 432x288 with 1 Axes>"
      ]
     },
     "metadata": {
      "needs_background": "light"
     },
     "output_type": "display_data"
    }
   ],
   "source": [
    "#Plot accuracy training and validation sets\n",
    "plt.plot(run_model2.history['accuracy'])\n",
    "plt.plot(run_model2.history['val_accuracy'])\n",
    "plt.title('Model Accuracy')\n",
    "plt.ylabel('accuracy')\n",
    "plt.xlabel('epoch')\n",
    "plt.legend(['train', 'validate'], loc = 'upper left')\n",
    "plt.show()"
   ]
  },
  {
   "cell_type": "code",
   "execution_count": 25,
   "metadata": {
    "execution": {
     "iopub.execute_input": "2021-03-12T07:12:01.501049Z",
     "iopub.status.busy": "2021-03-12T07:12:01.500113Z",
     "iopub.status.idle": "2021-03-12T07:12:01.663116Z",
     "shell.execute_reply": "2021-03-12T07:12:01.662515Z"
    },
    "papermill": {
     "duration": 0.569615,
     "end_time": "2021-03-12T07:12:01.663280",
     "exception": false,
     "start_time": "2021-03-12T07:12:01.093665",
     "status": "completed"
    },
    "tags": []
   },
   "outputs": [
    {
     "data": {
      "image/png": "[encoded data removed]",
      "text/plain": [
       "<Figure size 432x288 with 1 Axes>"
      ]
     },
     "metadata": {
      "needs_background": "light"
     },
     "output_type": "display_data"
    }
   ],
   "source": [
    "#Plot loss training dan validation set\n",
    "plt.plot(run_model2.history['loss'])\n",
    "plt.plot(run_model2.history['val_loss'])\n",
    "plt.title('Model Loss')\n",
    "plt.ylabel('loss')\n",
    "plt.xlabel('epoch')\n",
    "plt.legend(['train', 'validate'], loc = 'upper left')\n",
    "plt.show()"
   ]
  },
  {
   "cell_type": "code",
   "execution_count": 26,
   "metadata": {
    "execution": {
     "iopub.execute_input": "2021-03-12T07:12:02.411181Z",
     "iopub.status.busy": "2021-03-12T07:12:02.410362Z",
     "iopub.status.idle": "2021-03-12T07:12:02.609299Z",
     "shell.execute_reply": "2021-03-12T07:12:02.608415Z"
    },
    "papermill": {
     "duration": 0.575284,
     "end_time": "2021-03-12T07:12:02.609530",
     "exception": false,
     "start_time": "2021-03-12T07:12:02.034246",
     "status": "completed"
    },
    "tags": []
   },
   "outputs": [
    {
     "name": "stdout",
     "output_type": "stream",
     "text": [
      "3/3 [==============================] - 0s 3ms/step - loss: 0.1842 - accuracy: 0.9326\n",
      "Akurasi:93.26\n"
     ]
    }
   ],
   "source": [
    "#Evaluate new ANN model\n",
    "evaluasi2 = classifier2.evaluate(X_test2, y_test2)\n",
    "print('Akurasi:{:.2f}'.format(evaluasi2[1]*100))"
   ]
  },
  {
   "cell_type": "code",
   "execution_count": 27,
   "metadata": {
    "execution": {
     "iopub.execute_input": "2021-03-12T07:12:03.385576Z",
     "iopub.status.busy": "2021-03-12T07:12:03.384845Z",
     "iopub.status.idle": "2021-03-12T07:12:03.494341Z",
     "shell.execute_reply": "2021-03-12T07:12:03.493205Z"
    },
    "papermill": {
     "duration": 0.48797,
     "end_time": "2021-03-12T07:12:03.494524",
     "exception": false,
     "start_time": "2021-03-12T07:12:03.006554",
     "status": "completed"
    },
    "tags": []
   },
   "outputs": [
    {
     "name": "stderr",
     "output_type": "stream",
     "text": [
      "/opt/conda/lib/python3.7/site-packages/tensorflow/python/keras/engine/sequential.py:450: UserWarning: `model.predict_classes()` is deprecated and will be removed after 2021-01-01. Please use instead:* `np.argmax(model.predict(x), axis=-1)`,   if your model does multi-class classification   (e.g. if it uses a `softmax` last-layer activation).* `(model.predict(x) > 0.5).astype(\"int32\")`,   if your model does binary classification   (e.g. if it uses a `sigmoid` last-layer activation).\n",
      "  warnings.warn('`model.predict_classes()` is deprecated and '\n"
     ]
    }
   ],
   "source": [
    "#Predict test set\n",
    "hasil_prediksi2 = classifier2.predict_classes(X_test2)"
   ]
  },
  {
   "cell_type": "code",
   "execution_count": 28,
   "metadata": {
    "execution": {
     "iopub.execute_input": "2021-03-12T07:12:04.287294Z",
     "iopub.status.busy": "2021-03-12T07:12:04.286582Z",
     "iopub.status.idle": "2021-03-12T07:12:04.530483Z",
     "shell.execute_reply": "2021-03-12T07:12:04.530984Z"
    },
    "papermill": {
     "duration": 0.626913,
     "end_time": "2021-03-12T07:12:04.531176",
     "exception": false,
     "start_time": "2021-03-12T07:12:03.904263",
     "status": "completed"
    },
    "tags": []
   },
   "outputs": [
    {
     "data": {
      "text/plain": [
       "<AxesSubplot:xlabel='Prediksi', ylabel='Aktual'>"
      ]
     },
     "execution_count": 28,
     "metadata": {},
     "output_type": "execute_result"
    },
    {
     "data": {
      "image/png": "[encoded data removed]",
      "text/plain": [
       "<Figure size 432x288 with 2 Axes>"
      ]
     },
     "metadata": {
      "needs_background": "light"
     },
     "output_type": "display_data"
    }
   ],
   "source": [
    "#confusion matrix\n",
    "\n",
    "cm2 = confusion_matrix(y_test2, hasil_prediksi2)\n",
    "cm_label2 = pd.DataFrame(cm2, columns = np.unique(y_test2), index = np.unique(y_test2))\n",
    "cm_label2.index.name = 'Aktual'\n",
    "cm_label2.columns.name = 'Prediksi'\n",
    "#Confusion matrix with seaborn\n",
    "sns.heatmap(cm_label2, annot=True, cmap = 'Reds', fmt = 'g')"
   ]
  },
  {
   "cell_type": "code",
   "execution_count": 29,
   "metadata": {
    "execution": {
     "iopub.execute_input": "2021-03-12T07:12:05.280314Z",
     "iopub.status.busy": "2021-03-12T07:12:05.279629Z",
     "iopub.status.idle": "2021-03-12T07:12:05.294827Z",
     "shell.execute_reply": "2021-03-12T07:12:05.294283Z"
    },
    "papermill": {
     "duration": 0.391823,
     "end_time": "2021-03-12T07:12:05.294981",
     "exception": false,
     "start_time": "2021-03-12T07:12:04.903158",
     "status": "completed"
    },
    "tags": []
   },
   "outputs": [
    {
     "name": "stdout",
     "output_type": "stream",
     "text": [
      "              precision    recall  f1-score   support\n",
      "\n",
      "     Class 0       0.89      0.98      0.93        41\n",
      "     Class 1       0.98      0.90      0.93        48\n",
      "\n",
      "    accuracy                           0.93        89\n",
      "   macro avg       0.93      0.94      0.93        89\n",
      "weighted avg       0.94      0.93      0.93        89\n",
      "\n"
     ]
    }
   ],
   "source": [
    "#Classification report\n",
    "\n",
    "print(classification_report(y_test2, hasil_prediksi2, target_names = target_names))"
   ]
  },
  {
   "cell_type": "code",
   "execution_count": 30,
   "metadata": {
    "execution": {
     "iopub.execute_input": "2021-03-12T07:12:06.057022Z",
     "iopub.status.busy": "2021-03-12T07:12:06.054776Z",
     "iopub.status.idle": "2021-03-12T07:12:06.301662Z",
     "shell.execute_reply": "2021-03-12T07:12:06.302376Z"
    },
    "papermill": {
     "duration": 0.634689,
     "end_time": "2021-03-12T07:12:06.302666",
     "exception": false,
     "start_time": "2021-03-12T07:12:05.667977",
     "status": "completed"
    },
    "tags": []
   },
   "outputs": [
    {
     "name": "stderr",
     "output_type": "stream",
     "text": [
      "/opt/conda/lib/python3.7/site-packages/tensorflow/python/keras/engine/sequential.py:450: UserWarning: `model.predict_classes()` is deprecated and will be removed after 2021-01-01. Please use instead:* `np.argmax(model.predict(x), axis=-1)`,   if your model does multi-class classification   (e.g. if it uses a `softmax` last-layer activation).* `(model.predict(x) > 0.5).astype(\"int32\")`,   if your model does binary classification   (e.g. if it uses a `sigmoid` last-layer activation).\n",
      "  warnings.warn('`model.predict_classes()` is deprecated and '\n"
     ]
    },
    {
     "data": {
      "text/plain": [
       "<AxesSubplot:xlabel='Prediksi', ylabel='Aktual'>"
      ]
     },
     "execution_count": 30,
     "metadata": {},
     "output_type": "execute_result"
    },
    {
     "data": {
      "image/png": "[encoded data removed]",
      "text/plain": [
       "<Figure size 432x288 with 2 Axes>"
      ]
     },
     "metadata": {
      "needs_background": "light"
     },
     "output_type": "display_data"
    }
   ],
   "source": [
    "#Predict test set final\n",
    "hasil_prediksi3 = classifier2.predict_classes(X_test_final)\n",
    "cm3 = confusion_matrix(y_test_final, hasil_prediksi3)\n",
    "cm_label3 = pd.DataFrame(cm3, columns = np.unique(y_test_final), index = np.unique(y_test_final))\n",
    "cm_label3.index.name = 'Aktual'\n",
    "cm_label3.columns.name = 'Prediksi'\n",
    "#Confusion matrix with seaborn\n",
    "sns.heatmap(cm_label3, annot=True, cmap = 'Reds', fmt = 'g')"
   ]
  },
  {
   "cell_type": "code",
   "execution_count": 31,
   "metadata": {
    "execution": {
     "iopub.execute_input": "2021-03-12T07:12:07.122200Z",
     "iopub.status.busy": "2021-03-12T07:12:07.121449Z",
     "iopub.status.idle": "2021-03-12T07:12:07.135563Z",
     "shell.execute_reply": "2021-03-12T07:12:07.134928Z"
    },
    "papermill": {
     "duration": 0.428382,
     "end_time": "2021-03-12T07:12:07.135739",
     "exception": false,
     "start_time": "2021-03-12T07:12:06.707357",
     "status": "completed"
    },
    "tags": []
   },
   "outputs": [
    {
     "name": "stdout",
     "output_type": "stream",
     "text": [
      "              precision    recall  f1-score   support\n",
      "\n",
      "     Class 0       0.95      0.98      0.96        56\n",
      "     Class 1       0.98      0.93      0.95        43\n",
      "\n",
      "    accuracy                           0.96        99\n",
      "   macro avg       0.96      0.96      0.96        99\n",
      "weighted avg       0.96      0.96      0.96        99\n",
      "\n"
     ]
    }
   ],
   "source": [
    "#Classification report\n",
    "\n",
    "print(classification_report(y_test_final, hasil_prediksi3, target_names = target_names))"
   ]
  }
 ],
 "metadata": {
  "kernelspec": {
   "display_name": "Python 3",
   "language": "python",
   "name": "python3"
  },
  "language_info": {
   "codemirror_mode": {
    "name": "ipython",
    "version": 3
   },
   "file_extension": ".py",
   "mimetype": "text/x-python",
   "name": "python",
   "nbconvert_exporter": "python",
   "pygments_lexer": "ipython3",
   "version": "3.8.5"
  },
  "papermill": {
   "default_parameters": {},
   "duration": 109.644607,
   "end_time": "2021-03-12T07:12:09.024500",
   "environment_variables": {},
   "exception": null,
   "input_path": "__notebook__.ipynb",
   "output_path": "__notebook__.ipynb",
   "parameters": {},
   "start_time": "2021-03-12T07:10:19.379893",
   "version": "2.2.2"
  }
 },
 "nbformat": 4,
 "nbformat_minor": 4
}
